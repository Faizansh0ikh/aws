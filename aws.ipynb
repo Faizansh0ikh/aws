{
 "cells": [
  {
   "cell_type": "markdown",
   "id": "f5f30d14-33d3-4397-99cc-a56dc375edb7",
   "metadata": {},
   "source": [
    "Q1. What is Web Scraping? Why is it Used? Give three areas where Web Scraping is used to get data."
   ]
  },
  {
   "cell_type": "markdown",
   "id": "7bc62f44-0a5e-4d40-8a6a-49be022e0047",
   "metadata": {},
   "source": [
    "Web scraping is the automated extraction of data from websites. It is used to gather information quickly and efficiently. Three areas where web scraping is commonly used to get data are:\n",
    "\n",
    "1. Business Intelligence: Gathering data on competitors, industry trends, and customer sentiments.\n",
    "2. Content Aggregation: Aggregating content from various websites for display on a single platform.\n",
    "3. Price Comparison: Monitoring and comparing product prices from different online retailers."
   ]
  },
  {
   "cell_type": "markdown",
   "id": "70970e0e-4a3f-43d6-967f-059d3b6bbb6c",
   "metadata": {},
   "source": [
    "Q2. What are the different methods used for Web Scraping?"
   ]
  },
  {
   "cell_type": "markdown",
   "id": "46812386-1c37-4c05-8d61-02056ddbdc45",
   "metadata": {},
   "source": [
    "Different methods used for web scraping include:\n",
    "\n",
    "1. **Parsing HTML:** Parsing the HTML content of a webpage to extract relevant data using libraries like BeautifulSoup.\n",
    "\n",
    "2. **Using APIs:** Accessing data through APIs (Application Programming Interfaces) provided by websites for controlled data access.\n",
    "\n",
    "3. **Automated Browsing:** Simulating user interactions with a web browser using tools like Selenium.\n",
    "\n",
    "4. **DOM Parsing:** Navigating and extracting data directly from the Document Object Model (DOM) of a webpage.\n",
    "\n",
    "5. **Regex (Regular Expressions):** Using regular expressions to find and extract specific patterns of data from web pages.\n",
    "\n",
    "6. **Headless Browsers:** Utilizing headless browsers like Puppeteer to interact with web pages without a graphical user interface.\n",
    "\n",
    "7. **HTTP Requests:** Sending HTTP requests directly to web servers and extracting data from the responses.\n"
   ]
  },
  {
   "cell_type": "markdown",
   "id": "2a4819c5-ad89-4185-aeae-e1b7bee7ab76",
   "metadata": {},
   "source": [
    "Q3. What is Beautiful Soup? Why is it used?"
   ]
  },
  {
   "cell_type": "markdown",
   "id": "aff3f6fa-d643-4d0b-a9e6-e90c19bd9d5a",
   "metadata": {},
   "source": [
    "Beautiful Soup is a Python library used for web scraping. It provides a convenient and easy-to-use interface for parsing HTML and XML documents and extracting data from them. Beautiful Soup allows developers to navigate, search, and manipulate the parsed HTML content, making it an essential tool for extracting specific information from web pages."
   ]
  },
  {
   "cell_type": "markdown",
   "id": "fbacca42-4c84-4136-968b-e08a2d66db84",
   "metadata": {},
   "source": [
    "Q4. Why is flask used in this Web Scraping project?"
   ]
  },
  {
   "cell_type": "markdown",
   "id": "d7c98e81-be17-413f-a9e4-5035c14b3579",
   "metadata": {},
   "source": [
    "Flask is used in this web scraping project to create a web application for displaying and interacting with the scraped data."
   ]
  },
  {
   "cell_type": "markdown",
   "id": "a5013d74-4e0e-48aa-a139-4b735f3a435d",
   "metadata": {},
   "source": [
    "Q5. Write the names of AWS services used in this project. Also, explain the use of each service."
   ]
  },
  {
   "cell_type": "markdown",
   "id": "e6d1947c-088e-4a5c-8ef1-f5243907a0d9",
   "metadata": {},
   "source": [
    "Amazon Cloud: Cloud is a monitoring and observability service. It can be used to collect and track metrics, set alarms, and automatically react to changes in the environment to ensure the web scraping application's health and performance"
   ]
  }
 ],
 "metadata": {
  "kernelspec": {
   "display_name": "Python 3 (ipykernel)",
   "language": "python",
   "name": "python3"
  },
  "language_info": {
   "codemirror_mode": {
    "name": "ipython",
    "version": 3
   },
   "file_extension": ".py",
   "mimetype": "text/x-python",
   "name": "python",
   "nbconvert_exporter": "python",
   "pygments_lexer": "ipython3",
   "version": "3.10.8"
  }
 },
 "nbformat": 4,
 "nbformat_minor": 5
}
